{
 "cells": [
  {
   "cell_type": "markdown",
   "id": "0e4f9156",
   "metadata": {
    "papermill": {
     "duration": 0.00582,
     "end_time": "2024-09-09T22:16:43.542191",
     "exception": false,
     "start_time": "2024-09-09T22:16:43.536371",
     "status": "completed"
    },
    "tags": []
   },
   "source": [
    "Hello! Welcome to this quick down and dirty notebook. As the competition progresses, this will get built out and have a little more text added. For now, just something to get you started. Feature engineering from the engine column. \n",
    "\n",
    "# 1.0 Imports"
   ]
  },
  {
   "cell_type": "code",
   "execution_count": 1,
   "id": "b97c9d98",
   "metadata": {
    "execution": {
     "iopub.execute_input": "2024-09-09T22:16:43.555383Z",
     "iopub.status.busy": "2024-09-09T22:16:43.554946Z",
     "iopub.status.idle": "2024-09-09T22:16:45.785659Z",
     "shell.execute_reply": "2024-09-09T22:16:45.784450Z"
    },
    "papermill": {
     "duration": 2.240135,
     "end_time": "2024-09-09T22:16:45.788409",
     "exception": false,
     "start_time": "2024-09-09T22:16:43.548274",
     "status": "completed"
    },
    "tags": []
   },
   "outputs": [],
   "source": [
    "from collections import Counter\n",
    "import numpy as np\n",
    "import pandas as pd\n",
    "import re\n",
    "\n",
    "import seaborn as sns\n",
    "import matplotlib.pyplot as plt"
   ]
  },
  {
   "cell_type": "markdown",
   "id": "92f6ff39",
   "metadata": {
    "papermill": {
     "duration": 0.00493,
     "end_time": "2024-09-09T22:16:45.799203",
     "exception": false,
     "start_time": "2024-09-09T22:16:45.794273",
     "status": "completed"
    },
    "tags": []
   },
   "source": [
    "# 2.0 Load Data and Get High Level View"
   ]
  },
  {
   "cell_type": "code",
   "execution_count": 2,
   "id": "762b8b6c",
   "metadata": {
    "execution": {
     "iopub.execute_input": "2024-09-09T22:16:45.812024Z",
     "iopub.status.busy": "2024-09-09T22:16:45.810960Z",
     "iopub.status.idle": "2024-09-09T22:16:47.159789Z",
     "shell.execute_reply": "2024-09-09T22:16:47.158503Z"
    },
    "papermill": {
     "duration": 1.358087,
     "end_time": "2024-09-09T22:16:47.162593",
     "exception": false,
     "start_time": "2024-09-09T22:16:45.804506",
     "status": "completed"
    },
    "tags": []
   },
   "outputs": [],
   "source": [
    "train_df = pd.read_csv(\"/kaggle/input/playground-series-s4e9/train.csv\")\n",
    "test_df = pd.read_csv(\"/kaggle/input/playground-series-s4e9/test.csv\")"
   ]
  },
  {
   "cell_type": "code",
   "execution_count": 3,
   "id": "66be06b4",
   "metadata": {
    "execution": {
     "iopub.execute_input": "2024-09-09T22:16:47.175817Z",
     "iopub.status.busy": "2024-09-09T22:16:47.174767Z",
     "iopub.status.idle": "2024-09-09T22:16:47.202108Z",
     "shell.execute_reply": "2024-09-09T22:16:47.200870Z"
    },
    "papermill": {
     "duration": 0.036213,
     "end_time": "2024-09-09T22:16:47.204528",
     "exception": false,
     "start_time": "2024-09-09T22:16:47.168315",
     "status": "completed"
    },
    "tags": []
   },
   "outputs": [
    {
     "data": {
      "text/html": [
       "<div>\n",
       "<style scoped>\n",
       "    .dataframe tbody tr th:only-of-type {\n",
       "        vertical-align: middle;\n",
       "    }\n",
       "\n",
       "    .dataframe tbody tr th {\n",
       "        vertical-align: top;\n",
       "    }\n",
       "\n",
       "    .dataframe thead th {\n",
       "        text-align: right;\n",
       "    }\n",
       "</style>\n",
       "<table border=\"1\" class=\"dataframe\">\n",
       "  <thead>\n",
       "    <tr style=\"text-align: right;\">\n",
       "      <th></th>\n",
       "      <th>id</th>\n",
       "      <th>brand</th>\n",
       "      <th>model</th>\n",
       "      <th>model_year</th>\n",
       "      <th>milage</th>\n",
       "      <th>fuel_type</th>\n",
       "      <th>engine</th>\n",
       "      <th>transmission</th>\n",
       "      <th>ext_col</th>\n",
       "      <th>int_col</th>\n",
       "      <th>accident</th>\n",
       "      <th>clean_title</th>\n",
       "      <th>price</th>\n",
       "    </tr>\n",
       "  </thead>\n",
       "  <tbody>\n",
       "    <tr>\n",
       "      <th>0</th>\n",
       "      <td>0</td>\n",
       "      <td>MINI</td>\n",
       "      <td>Cooper S Base</td>\n",
       "      <td>2007</td>\n",
       "      <td>213000</td>\n",
       "      <td>Gasoline</td>\n",
       "      <td>172.0HP 1.6L 4 Cylinder Engine Gasoline Fuel</td>\n",
       "      <td>A/T</td>\n",
       "      <td>Yellow</td>\n",
       "      <td>Gray</td>\n",
       "      <td>None reported</td>\n",
       "      <td>Yes</td>\n",
       "      <td>4200</td>\n",
       "    </tr>\n",
       "    <tr>\n",
       "      <th>1</th>\n",
       "      <td>1</td>\n",
       "      <td>Lincoln</td>\n",
       "      <td>LS V8</td>\n",
       "      <td>2002</td>\n",
       "      <td>143250</td>\n",
       "      <td>Gasoline</td>\n",
       "      <td>252.0HP 3.9L 8 Cylinder Engine Gasoline Fuel</td>\n",
       "      <td>A/T</td>\n",
       "      <td>Silver</td>\n",
       "      <td>Beige</td>\n",
       "      <td>At least 1 accident or damage reported</td>\n",
       "      <td>Yes</td>\n",
       "      <td>4999</td>\n",
       "    </tr>\n",
       "    <tr>\n",
       "      <th>2</th>\n",
       "      <td>2</td>\n",
       "      <td>Chevrolet</td>\n",
       "      <td>Silverado 2500 LT</td>\n",
       "      <td>2002</td>\n",
       "      <td>136731</td>\n",
       "      <td>E85 Flex Fuel</td>\n",
       "      <td>320.0HP 5.3L 8 Cylinder Engine Flex Fuel Capab...</td>\n",
       "      <td>A/T</td>\n",
       "      <td>Blue</td>\n",
       "      <td>Gray</td>\n",
       "      <td>None reported</td>\n",
       "      <td>Yes</td>\n",
       "      <td>13900</td>\n",
       "    </tr>\n",
       "    <tr>\n",
       "      <th>3</th>\n",
       "      <td>3</td>\n",
       "      <td>Genesis</td>\n",
       "      <td>G90 5.0 Ultimate</td>\n",
       "      <td>2017</td>\n",
       "      <td>19500</td>\n",
       "      <td>Gasoline</td>\n",
       "      <td>420.0HP 5.0L 8 Cylinder Engine Gasoline Fuel</td>\n",
       "      <td>Transmission w/Dual Shift Mode</td>\n",
       "      <td>Black</td>\n",
       "      <td>Black</td>\n",
       "      <td>None reported</td>\n",
       "      <td>Yes</td>\n",
       "      <td>45000</td>\n",
       "    </tr>\n",
       "    <tr>\n",
       "      <th>4</th>\n",
       "      <td>4</td>\n",
       "      <td>Mercedes-Benz</td>\n",
       "      <td>Metris Base</td>\n",
       "      <td>2021</td>\n",
       "      <td>7388</td>\n",
       "      <td>Gasoline</td>\n",
       "      <td>208.0HP 2.0L 4 Cylinder Engine Gasoline Fuel</td>\n",
       "      <td>7-Speed A/T</td>\n",
       "      <td>Black</td>\n",
       "      <td>Beige</td>\n",
       "      <td>None reported</td>\n",
       "      <td>Yes</td>\n",
       "      <td>97500</td>\n",
       "    </tr>\n",
       "  </tbody>\n",
       "</table>\n",
       "</div>"
      ],
      "text/plain": [
       "   id          brand              model  model_year  milage      fuel_type  \\\n",
       "0   0           MINI      Cooper S Base        2007  213000       Gasoline   \n",
       "1   1        Lincoln              LS V8        2002  143250       Gasoline   \n",
       "2   2      Chevrolet  Silverado 2500 LT        2002  136731  E85 Flex Fuel   \n",
       "3   3        Genesis   G90 5.0 Ultimate        2017   19500       Gasoline   \n",
       "4   4  Mercedes-Benz        Metris Base        2021    7388       Gasoline   \n",
       "\n",
       "                                              engine  \\\n",
       "0       172.0HP 1.6L 4 Cylinder Engine Gasoline Fuel   \n",
       "1       252.0HP 3.9L 8 Cylinder Engine Gasoline Fuel   \n",
       "2  320.0HP 5.3L 8 Cylinder Engine Flex Fuel Capab...   \n",
       "3       420.0HP 5.0L 8 Cylinder Engine Gasoline Fuel   \n",
       "4       208.0HP 2.0L 4 Cylinder Engine Gasoline Fuel   \n",
       "\n",
       "                     transmission ext_col int_col  \\\n",
       "0                             A/T  Yellow    Gray   \n",
       "1                             A/T  Silver   Beige   \n",
       "2                             A/T    Blue    Gray   \n",
       "3  Transmission w/Dual Shift Mode   Black   Black   \n",
       "4                     7-Speed A/T   Black   Beige   \n",
       "\n",
       "                                 accident clean_title  price  \n",
       "0                           None reported         Yes   4200  \n",
       "1  At least 1 accident or damage reported         Yes   4999  \n",
       "2                           None reported         Yes  13900  \n",
       "3                           None reported         Yes  45000  \n",
       "4                           None reported         Yes  97500  "
      ]
     },
     "execution_count": 3,
     "metadata": {},
     "output_type": "execute_result"
    }
   ],
   "source": [
    "pd.set_option('display.max_columns', None)\n",
    "train_df.head()"
   ]
  },
  {
   "cell_type": "code",
   "execution_count": 4,
   "id": "013f8b22",
   "metadata": {
    "execution": {
     "iopub.execute_input": "2024-09-09T22:16:47.217862Z",
     "iopub.status.busy": "2024-09-09T22:16:47.217433Z",
     "iopub.status.idle": "2024-09-09T22:16:47.319775Z",
     "shell.execute_reply": "2024-09-09T22:16:47.318387Z"
    },
    "papermill": {
     "duration": 0.112634,
     "end_time": "2024-09-09T22:16:47.322765",
     "exception": false,
     "start_time": "2024-09-09T22:16:47.210131",
     "status": "completed"
    },
    "tags": []
   },
   "outputs": [
    {
     "name": "stdout",
     "output_type": "stream",
     "text": [
      "<class 'pandas.core.frame.DataFrame'>\n",
      "RangeIndex: 188533 entries, 0 to 188532\n",
      "Data columns (total 13 columns):\n",
      " #   Column        Non-Null Count   Dtype \n",
      "---  ------        --------------   ----- \n",
      " 0   id            188533 non-null  int64 \n",
      " 1   brand         188533 non-null  object\n",
      " 2   model         188533 non-null  object\n",
      " 3   model_year    188533 non-null  int64 \n",
      " 4   milage        188533 non-null  int64 \n",
      " 5   fuel_type     183450 non-null  object\n",
      " 6   engine        188533 non-null  object\n",
      " 7   transmission  188533 non-null  object\n",
      " 8   ext_col       188533 non-null  object\n",
      " 9   int_col       188533 non-null  object\n",
      " 10  accident      186081 non-null  object\n",
      " 11  clean_title   167114 non-null  object\n",
      " 12  price         188533 non-null  int64 \n",
      "dtypes: int64(4), object(9)\n",
      "memory usage: 18.7+ MB\n"
     ]
    }
   ],
   "source": [
    "train_df.info()"
   ]
  },
  {
   "cell_type": "code",
   "execution_count": 5,
   "id": "22230ad9",
   "metadata": {
    "execution": {
     "iopub.execute_input": "2024-09-09T22:16:47.336432Z",
     "iopub.status.busy": "2024-09-09T22:16:47.335523Z",
     "iopub.status.idle": "2024-09-09T22:16:47.498697Z",
     "shell.execute_reply": "2024-09-09T22:16:47.497251Z"
    },
    "papermill": {
     "duration": 0.172807,
     "end_time": "2024-09-09T22:16:47.501303",
     "exception": false,
     "start_time": "2024-09-09T22:16:47.328496",
     "status": "completed"
    },
    "tags": []
   },
   "outputs": [
    {
     "name": "stdout",
     "output_type": "stream",
     "text": [
      "brand             57\n",
      "model           1897\n",
      "fuel_type          7\n",
      "engine          1117\n",
      "transmission      52\n",
      "ext_col          319\n",
      "int_col          156\n",
      "accident           2\n",
      "clean_title        1\n",
      "dtype: int64\n"
     ]
    }
   ],
   "source": [
    "categorical_columns = train_df.select_dtypes(include=['object']).columns\n",
    "unique_values_per_column = train_df[categorical_columns].nunique()\n",
    "print(unique_values_per_column)"
   ]
  },
  {
   "cell_type": "code",
   "execution_count": 6,
   "id": "d0de5063",
   "metadata": {
    "execution": {
     "iopub.execute_input": "2024-09-09T22:16:47.515223Z",
     "iopub.status.busy": "2024-09-09T22:16:47.514798Z",
     "iopub.status.idle": "2024-09-09T22:16:47.531243Z",
     "shell.execute_reply": "2024-09-09T22:16:47.530033Z"
    },
    "papermill": {
     "duration": 0.025867,
     "end_time": "2024-09-09T22:16:47.533644",
     "exception": false,
     "start_time": "2024-09-09T22:16:47.507777",
     "status": "completed"
    },
    "tags": []
   },
   "outputs": [
    {
     "data": {
      "text/html": [
       "<div>\n",
       "<style scoped>\n",
       "    .dataframe tbody tr th:only-of-type {\n",
       "        vertical-align: middle;\n",
       "    }\n",
       "\n",
       "    .dataframe tbody tr th {\n",
       "        vertical-align: top;\n",
       "    }\n",
       "\n",
       "    .dataframe thead th {\n",
       "        text-align: right;\n",
       "    }\n",
       "</style>\n",
       "<table border=\"1\" class=\"dataframe\">\n",
       "  <thead>\n",
       "    <tr style=\"text-align: right;\">\n",
       "      <th></th>\n",
       "      <th>id</th>\n",
       "      <th>brand</th>\n",
       "      <th>model</th>\n",
       "      <th>model_year</th>\n",
       "      <th>milage</th>\n",
       "      <th>fuel_type</th>\n",
       "      <th>engine</th>\n",
       "      <th>transmission</th>\n",
       "      <th>ext_col</th>\n",
       "      <th>int_col</th>\n",
       "      <th>accident</th>\n",
       "      <th>clean_title</th>\n",
       "    </tr>\n",
       "  </thead>\n",
       "  <tbody>\n",
       "    <tr>\n",
       "      <th>0</th>\n",
       "      <td>188533</td>\n",
       "      <td>Land</td>\n",
       "      <td>Rover LR2 Base</td>\n",
       "      <td>2015</td>\n",
       "      <td>98000</td>\n",
       "      <td>Gasoline</td>\n",
       "      <td>240.0HP 2.0L 4 Cylinder Engine Gasoline Fuel</td>\n",
       "      <td>6-Speed A/T</td>\n",
       "      <td>White</td>\n",
       "      <td>Beige</td>\n",
       "      <td>None reported</td>\n",
       "      <td>Yes</td>\n",
       "    </tr>\n",
       "    <tr>\n",
       "      <th>1</th>\n",
       "      <td>188534</td>\n",
       "      <td>Land</td>\n",
       "      <td>Rover Defender SE</td>\n",
       "      <td>2020</td>\n",
       "      <td>9142</td>\n",
       "      <td>Hybrid</td>\n",
       "      <td>395.0HP 3.0L Straight 6 Cylinder Engine Gasoli...</td>\n",
       "      <td>8-Speed A/T</td>\n",
       "      <td>Silver</td>\n",
       "      <td>Black</td>\n",
       "      <td>None reported</td>\n",
       "      <td>Yes</td>\n",
       "    </tr>\n",
       "    <tr>\n",
       "      <th>2</th>\n",
       "      <td>188535</td>\n",
       "      <td>Ford</td>\n",
       "      <td>Expedition Limited</td>\n",
       "      <td>2022</td>\n",
       "      <td>28121</td>\n",
       "      <td>Gasoline</td>\n",
       "      <td>3.5L V6 24V PDI DOHC Twin Turbo</td>\n",
       "      <td>10-Speed Automatic</td>\n",
       "      <td>White</td>\n",
       "      <td>Ebony</td>\n",
       "      <td>None reported</td>\n",
       "      <td>NaN</td>\n",
       "    </tr>\n",
       "    <tr>\n",
       "      <th>3</th>\n",
       "      <td>188536</td>\n",
       "      <td>Audi</td>\n",
       "      <td>A6 2.0T Sport</td>\n",
       "      <td>2016</td>\n",
       "      <td>61258</td>\n",
       "      <td>Gasoline</td>\n",
       "      <td>2.0 Liter TFSI</td>\n",
       "      <td>Automatic</td>\n",
       "      <td>Silician Yellow</td>\n",
       "      <td>Black</td>\n",
       "      <td>None reported</td>\n",
       "      <td>NaN</td>\n",
       "    </tr>\n",
       "    <tr>\n",
       "      <th>4</th>\n",
       "      <td>188537</td>\n",
       "      <td>Audi</td>\n",
       "      <td>A6 2.0T Premium Plus</td>\n",
       "      <td>2018</td>\n",
       "      <td>59000</td>\n",
       "      <td>Gasoline</td>\n",
       "      <td>252.0HP 2.0L 4 Cylinder Engine Gasoline Fuel</td>\n",
       "      <td>A/T</td>\n",
       "      <td>Gray</td>\n",
       "      <td>Black</td>\n",
       "      <td>None reported</td>\n",
       "      <td>Yes</td>\n",
       "    </tr>\n",
       "  </tbody>\n",
       "</table>\n",
       "</div>"
      ],
      "text/plain": [
       "       id brand                 model  model_year  milage fuel_type  \\\n",
       "0  188533  Land        Rover LR2 Base        2015   98000  Gasoline   \n",
       "1  188534  Land     Rover Defender SE        2020    9142    Hybrid   \n",
       "2  188535  Ford    Expedition Limited        2022   28121  Gasoline   \n",
       "3  188536  Audi         A6 2.0T Sport        2016   61258  Gasoline   \n",
       "4  188537  Audi  A6 2.0T Premium Plus        2018   59000  Gasoline   \n",
       "\n",
       "                                              engine        transmission  \\\n",
       "0       240.0HP 2.0L 4 Cylinder Engine Gasoline Fuel         6-Speed A/T   \n",
       "1  395.0HP 3.0L Straight 6 Cylinder Engine Gasoli...         8-Speed A/T   \n",
       "2                    3.5L V6 24V PDI DOHC Twin Turbo  10-Speed Automatic   \n",
       "3                                     2.0 Liter TFSI           Automatic   \n",
       "4       252.0HP 2.0L 4 Cylinder Engine Gasoline Fuel                 A/T   \n",
       "\n",
       "           ext_col int_col       accident clean_title  \n",
       "0            White   Beige  None reported         Yes  \n",
       "1           Silver   Black  None reported         Yes  \n",
       "2            White   Ebony  None reported         NaN  \n",
       "3  Silician Yellow   Black  None reported         NaN  \n",
       "4             Gray   Black  None reported         Yes  "
      ]
     },
     "execution_count": 6,
     "metadata": {},
     "output_type": "execute_result"
    }
   ],
   "source": [
    "pd.set_option('display.max_columns', None)\n",
    "test_df.head()"
   ]
  },
  {
   "cell_type": "code",
   "execution_count": 7,
   "id": "f2e5e06a",
   "metadata": {
    "execution": {
     "iopub.execute_input": "2024-09-09T22:16:47.547575Z",
     "iopub.status.busy": "2024-09-09T22:16:47.547171Z",
     "iopub.status.idle": "2024-09-09T22:16:47.611662Z",
     "shell.execute_reply": "2024-09-09T22:16:47.610367Z"
    },
    "papermill": {
     "duration": 0.074485,
     "end_time": "2024-09-09T22:16:47.614251",
     "exception": false,
     "start_time": "2024-09-09T22:16:47.539766",
     "status": "completed"
    },
    "tags": []
   },
   "outputs": [
    {
     "name": "stdout",
     "output_type": "stream",
     "text": [
      "<class 'pandas.core.frame.DataFrame'>\n",
      "RangeIndex: 125690 entries, 0 to 125689\n",
      "Data columns (total 12 columns):\n",
      " #   Column        Non-Null Count   Dtype \n",
      "---  ------        --------------   ----- \n",
      " 0   id            125690 non-null  int64 \n",
      " 1   brand         125690 non-null  object\n",
      " 2   model         125690 non-null  object\n",
      " 3   model_year    125690 non-null  int64 \n",
      " 4   milage        125690 non-null  int64 \n",
      " 5   fuel_type     122307 non-null  object\n",
      " 6   engine        125690 non-null  object\n",
      " 7   transmission  125690 non-null  object\n",
      " 8   ext_col       125690 non-null  object\n",
      " 9   int_col       125690 non-null  object\n",
      " 10  accident      124058 non-null  object\n",
      " 11  clean_title   111451 non-null  object\n",
      "dtypes: int64(3), object(9)\n",
      "memory usage: 11.5+ MB\n"
     ]
    }
   ],
   "source": [
    "test_df.info()"
   ]
  },
  {
   "cell_type": "code",
   "execution_count": 8,
   "id": "0121124f",
   "metadata": {
    "execution": {
     "iopub.execute_input": "2024-09-09T22:16:47.628482Z",
     "iopub.status.busy": "2024-09-09T22:16:47.628096Z",
     "iopub.status.idle": "2024-09-09T22:16:47.634850Z",
     "shell.execute_reply": "2024-09-09T22:16:47.633487Z"
    },
    "papermill": {
     "duration": 0.016928,
     "end_time": "2024-09-09T22:16:47.637345",
     "exception": false,
     "start_time": "2024-09-09T22:16:47.620417",
     "status": "completed"
    },
    "tags": []
   },
   "outputs": [],
   "source": [
    "def count_unique_words(df, column):\n",
    "    all_text = ' '.join(df[column].dropna().astype(str).str.lower())\n",
    "    words = all_text.split()\n",
    "    word_counts = Counter(words)\n",
    "    word_count_df = pd.DataFrame(word_counts.items(), columns=['Word', 'Count'])\n",
    "    word_count_df = word_count_df.sort_values(by='Count', ascending=False).reset_index(drop=True)\n",
    "    return word_count_df\n"
   ]
  },
  {
   "cell_type": "markdown",
   "id": "89b84550",
   "metadata": {
    "papermill": {
     "duration": 0.005903,
     "end_time": "2024-09-09T22:16:47.649449",
     "exception": false,
     "start_time": "2024-09-09T22:16:47.643546",
     "status": "completed"
    },
    "tags": []
   },
   "source": [
    "# 3.0 Data Analysis\n",
    "## 3.1 Brand and Model Interaction"
   ]
  },
  {
   "cell_type": "code",
   "execution_count": 9,
   "id": "97901f26",
   "metadata": {
    "execution": {
     "iopub.execute_input": "2024-09-09T22:16:47.663316Z",
     "iopub.status.busy": "2024-09-09T22:16:47.662909Z",
     "iopub.status.idle": "2024-09-09T22:16:48.446871Z",
     "shell.execute_reply": "2024-09-09T22:16:48.445601Z"
    },
    "papermill": {
     "duration": 0.795117,
     "end_time": "2024-09-09T22:16:48.450636",
     "exception": false,
     "start_time": "2024-09-09T22:16:47.655519",
     "status": "completed"
    },
    "tags": []
   },
   "outputs": [
    {
     "data": {
      "image/png": "[encoded data removed]",
      "text/plain": [
       "<Figure size 1200x800 with 2 Axes>"
      ]
     },
     "metadata": {},
     "output_type": "display_data"
    }
   ],
   "source": [
    "df = train_df \n",
    "\n",
    "top_brands = df['brand'].value_counts().nlargest(15).index\n",
    "top_models = df['model'].value_counts().nlargest(15).index\n",
    "\n",
    "df_filtered = df[(df['brand'].isin(top_brands)) & (df['model'].isin(top_models))]\n",
    "pivot_table = df_filtered.pivot_table(index='brand', columns='model', values='price', aggfunc='mean')\n",
    "\n",
    "plt.figure(figsize=(12, 8))\n",
    "sns.heatmap(pivot_table, annot=True, cmap='coolwarm', fmt='.0f', linewidths=0.5)\n",
    "plt.title('Average Price by Brand and Model')\n",
    "plt.show()\n"
   ]
  },
  {
   "cell_type": "markdown",
   "id": "50e293fa",
   "metadata": {
    "papermill": {
     "duration": 0.007864,
     "end_time": "2024-09-09T22:16:48.466808",
     "exception": false,
     "start_time": "2024-09-09T22:16:48.458944",
     "status": "completed"
    },
    "tags": []
   },
   "source": [
    "# 4.0 Data Cleaning\n",
    "## 4.1 Initial Thoughts\n",
    "- We will need a way to handle nan values, break apart these model names, engine names, internal and external colors. \n",
    "- Can we pull horsepower out of the engine column and make that its own column? \n",
    "    - Model is going to be a tough column to crack, maybe we could train a separate regressor on the model’s name and have that be an input.\n",
    "    - This will take some time, should be saved for last. \n",
    "- Color could probably be broken up into a top 15 category and another category.\n",
    "    - If we're training in modelling, could we also just train on color? \n",
    "    - Is color even useful without the other information? \n",
    "- We should also check out continuous variables for any outliers. \n",
    "- Add in miles/year traveled. \n",
    "\n",
    "## 4.2 Engine"
   ]
  },
  {
   "cell_type": "code",
   "execution_count": 10,
   "id": "8e551cf0",
   "metadata": {
    "execution": {
     "iopub.execute_input": "2024-09-09T22:16:48.485327Z",
     "iopub.status.busy": "2024-09-09T22:16:48.484876Z",
     "iopub.status.idle": "2024-09-09T22:16:48.501163Z",
     "shell.execute_reply": "2024-09-09T22:16:48.499866Z"
    },
    "papermill": {
     "duration": 0.028761,
     "end_time": "2024-09-09T22:16:48.503723",
     "exception": false,
     "start_time": "2024-09-09T22:16:48.474962",
     "status": "completed"
    },
    "tags": []
   },
   "outputs": [],
   "source": [
    "def extract_engine_info(df):\n",
    "    column = 'engine'\n",
    "\n",
    "    hp_pattern = r'(\\d+\\.?\\d*)HP'\n",
    "    l_pattern = r'(\\d+\\.?\\d*)\\s*[lL](iter)?'  \n",
    "    cylinder_pattern = r'(\\d+)\\sCylinder'\n",
    "    v_pattern = r'[vV](\\d+)'  \n",
    "    before_v_pattern = r'(\\d+)[vV]'  \n",
    "    turbo_pattern = r'Turbo'  \n",
    "    dohc_pattern = r'\\bDOHC\\b'\n",
    "    gdi_pattern = r'\\bGDI\\b'\n",
    "    mpfi_pattern = r'\\bMPFI\\b'\n",
    "    pdi_pattern = r'\\bPDI\\b'\n",
    "    ohv_pattern = r'\\bOHV\\b'\n",
    "\n",
    "    df['HP'] = df[column].apply(lambda x: re.search(hp_pattern, x).group(1) if re.search(hp_pattern, x) else None)\n",
    "    df['L'] = df[column].apply(lambda x: re.search(l_pattern, x).group(1) if re.search(l_pattern, x) else None)\n",
    "    df['Cylinder'] = df[column].apply(lambda x: re.search(cylinder_pattern, x).group(1) if re.search(cylinder_pattern, x) else None)\n",
    "    df['V_'] = df[column].apply(lambda x: re.search(v_pattern, x).group(1) if re.search(v_pattern, x) else None)\n",
    "    df['_V'] = df[column].apply(lambda x: re.search(before_v_pattern, x).group(1) if re.search(before_v_pattern, x) else None)\n",
    "    df['Turbo'] = df[column].apply(lambda x: bool(re.search(turbo_pattern, x, re.IGNORECASE)))  \n",
    "    df['DOHC'] = df[column].apply(lambda x: bool(re.search(dohc_pattern, x, re.IGNORECASE)))\n",
    "    df['GDI'] = df[column].apply(lambda x: bool(re.search(gdi_pattern, x, re.IGNORECASE)))\n",
    "    df['MPFI'] = df[column].apply(lambda x: bool(re.search(mpfi_pattern, x, re.IGNORECASE)))\n",
    "    df['PDI'] = df[column].apply(lambda x: bool(re.search(pdi_pattern, x, re.IGNORECASE)))\n",
    "    df['OHV'] = df[column].apply(lambda x: bool(re.search(ohv_pattern, x, re.IGNORECASE)))\n",
    "\n",
    "    def remove_patterns(text):\n",
    "        text = re.sub(hp_pattern, '', text)  \n",
    "        text = re.sub(l_pattern, '', text)   \n",
    "        text = re.sub(cylinder_pattern, '', text) \n",
    "        text = re.sub(fuel_pattern, '', text)  \n",
    "        text = re.sub(v_pattern, '', text)   \n",
    "        text = re.sub(before_v_pattern, '', text)  \n",
    "        text = re.sub(turbo_pattern, '', text, flags=re.IGNORECASE)  \n",
    "        text = re.sub(r'\\bengine\\b', '', text, flags=re.IGNORECASE)  \n",
    "        text = re.sub(dohc_pattern, '', text, flags=re.IGNORECASE)  \n",
    "        text = re.sub(gdi_pattern, '', text, flags=re.IGNORECASE)  \n",
    "        text = re.sub(mpfi_pattern, '', text, flags=re.IGNORECASE)  \n",
    "        text = re.sub(pdi_pattern, '', text, flags=re.IGNORECASE) \n",
    "        text = re.sub(ohv_pattern, '', text, flags=re.IGNORECASE)  \n",
    "        return text.strip()  \n",
    "\n",
    "    # df['engine_new'] = df[column].apply(remove_patterns)\n",
    "\n",
    "    return df"
   ]
  },
  {
   "cell_type": "markdown",
   "id": "ceb210fa",
   "metadata": {
    "papermill": {
     "duration": 0.008336,
     "end_time": "2024-09-09T22:16:48.520608",
     "exception": false,
     "start_time": "2024-09-09T22:16:48.512272",
     "status": "completed"
    },
    "tags": []
   },
   "source": [
    "Excellent! 5 new continuous variables and 6 one-hot-encoded columns.\n",
    "\n",
    "## 4.3 Transmission"
   ]
  },
  {
   "cell_type": "code",
   "execution_count": 11,
   "id": "a2722cf9",
   "metadata": {
    "execution": {
     "iopub.execute_input": "2024-09-09T22:16:48.539522Z",
     "iopub.status.busy": "2024-09-09T22:16:48.539043Z",
     "iopub.status.idle": "2024-09-09T22:16:48.548053Z",
     "shell.execute_reply": "2024-09-09T22:16:48.546928Z"
    },
    "papermill": {
     "duration": 0.021258,
     "end_time": "2024-09-09T22:16:48.550448",
     "exception": false,
     "start_time": "2024-09-09T22:16:48.529190",
     "status": "completed"
    },
    "tags": []
   },
   "outputs": [],
   "source": [
    "def transmission (df):\n",
    "    def extract_gears(transmission):\n",
    "        match = re.search(r'(\\d+)(?:[\\s-]*Speed)?', transmission, re.IGNORECASE)\n",
    "        if match:\n",
    "            return match.group(1)\n",
    "        return 0\n",
    "    \n",
    "    df['is_automatic'] = df['transmission'].str.contains(r'Automatic|A/T', case=False)\n",
    "    df['is_manual'] = df['transmission'].str.contains(r'Manual|M/T', case=False)\n",
    "    df['is_cvt'] = df['transmission'].str.contains(r'CVT|Variable', case=False)\n",
    "    df['gears'] = df['transmission'].apply(extract_gears)\n",
    "    df['has_overdrive'] = df['transmission'].str.contains(r'Overdrive', case=False)\n",
    "    df['has_dual_shift'] = df['transmission'].str.contains(r'Dual Shift Mode', case=False)\n",
    "    df['is_electronically_controlled'] = df['transmission'].str.contains(r'Electronically Controlled', case=False)\n",
    "    df['is_dct'] = df['transmission'].str.contains(r'DCT', case=False)\n",
    "    df['is_other'] = df['transmission'].str.contains(r'^(?:SCHEDULED FOR OR IN PRODUCTION|F|–|Transmission Overdrive Switch)$', case=False)\n",
    "    return df"
   ]
  },
  {
   "cell_type": "markdown",
   "id": "3a52027f",
   "metadata": {
    "papermill": {
     "duration": 0.008209,
     "end_time": "2024-09-09T22:16:48.567505",
     "exception": false,
     "start_time": "2024-09-09T22:16:48.559296",
     "status": "completed"
    },
    "tags": []
   },
   "source": [
    "Great! 1 new continuou variable and 8 one-hot-encoded columns.\n",
    "\n",
    "## 4.4 Accident, Fuel Type, and Clean-Title"
   ]
  },
  {
   "cell_type": "code",
   "execution_count": 12,
   "id": "bca416e4",
   "metadata": {
    "execution": {
     "iopub.execute_input": "2024-09-09T22:16:48.586185Z",
     "iopub.status.busy": "2024-09-09T22:16:48.585367Z",
     "iopub.status.idle": "2024-09-09T22:16:48.593461Z",
     "shell.execute_reply": "2024-09-09T22:16:48.592363Z"
    },
    "papermill": {
     "duration": 0.019911,
     "end_time": "2024-09-09T22:16:48.595792",
     "exception": false,
     "start_time": "2024-09-09T22:16:48.575881",
     "status": "completed"
    },
    "tags": []
   },
   "outputs": [],
   "source": [
    "def fuel_type(df):\n",
    "    df['fuel_type'] = df['fuel_type'].replace(['not supported', '–', np.nan], 'Other')\n",
    "    df_encoded = pd.get_dummies(df['fuel_type'], prefix='fuel_type', dtype=bool)\n",
    "    df = pd.concat([df, df_encoded], axis=1)\n",
    "    df['accident_reported'] = df['accident'].apply(lambda x: True if x == 'At least 1 accident or damage reported' else False)\n",
    "    df['clean_title_boolean'] = df['clean_title'].apply(lambda x: True if x == 'Yes' else False)\n",
    "    return df"
   ]
  },
  {
   "cell_type": "markdown",
   "id": "4aceb3df",
   "metadata": {
    "papermill": {
     "duration": 0.00788,
     "end_time": "2024-09-09T22:16:48.611973",
     "exception": false,
     "start_time": "2024-09-09T22:16:48.604093",
     "status": "completed"
    },
    "tags": []
   },
   "source": [
    "## 4.5 Missing Values"
   ]
  },
  {
   "cell_type": "code",
   "execution_count": 13,
   "id": "259776b3",
   "metadata": {
    "execution": {
     "iopub.execute_input": "2024-09-09T22:16:48.631373Z",
     "iopub.status.busy": "2024-09-09T22:16:48.630253Z",
     "iopub.status.idle": "2024-09-09T22:16:48.636995Z",
     "shell.execute_reply": "2024-09-09T22:16:48.635783Z"
    },
    "papermill": {
     "duration": 0.019607,
     "end_time": "2024-09-09T22:16:48.639747",
     "exception": false,
     "start_time": "2024-09-09T22:16:48.620140",
     "status": "completed"
    },
    "tags": []
   },
   "outputs": [],
   "source": [
    "def fill_missing_values(df):\n",
    "    categorical_columns = df.select_dtypes(include=['object']).columns\n",
    "    continuous_columns = df.select_dtypes(include=['int64']).columns\n",
    "\n",
    "    df[categorical_columns] = df[categorical_columns].fillna('missing')\n",
    "    df[continuous_columns] = df[continuous_columns].fillna(0)\n",
    "    \n",
    "    return df"
   ]
  },
  {
   "cell_type": "code",
   "execution_count": 14,
   "id": "882c6dcf",
   "metadata": {
    "execution": {
     "iopub.execute_input": "2024-09-09T22:16:48.658930Z",
     "iopub.status.busy": "2024-09-09T22:16:48.657760Z",
     "iopub.status.idle": "2024-09-09T22:16:48.662949Z",
     "shell.execute_reply": "2024-09-09T22:16:48.661759Z"
    },
    "papermill": {
     "duration": 0.017035,
     "end_time": "2024-09-09T22:16:48.665217",
     "exception": false,
     "start_time": "2024-09-09T22:16:48.648182",
     "status": "completed"
    },
    "tags": []
   },
   "outputs": [],
   "source": [
    "# word_count_table = count_unique_words(train_df, 'model')\n",
    "# pd.set_option('display.max_rows', None)\n",
    "# print(word_count_table)"
   ]
  }
 ],
 "metadata": {
  "kaggle": {
   "accelerator": "none",
   "dataSources": [
    {
     "databundleVersionId": 9057646,
     "sourceId": 76728,
     "sourceType": "competition"
    }
   ],
   "dockerImageVersionId": 30761,
   "isGpuEnabled": false,
   "isInternetEnabled": true,
   "language": "python",
   "sourceType": "notebook"
  },
  "kernelspec": {
   "display_name": "Python 3",
   "language": "python",
   "name": "python3"
  },
  "language_info": {
   "codemirror_mode": {
    "name": "ipython",
    "version": 3
   },
   "file_extension": ".py",
   "mimetype": "text/x-python",
   "name": "python",
   "nbconvert_exporter": "python",
   "pygments_lexer": "ipython3",
   "version": "3.10.14"
  },
  "papermill": {
   "default_parameters": {},
   "duration": 8.652846,
   "end_time": "2024-09-09T22:16:49.295826",
   "environment_variables": {},
   "exception": null,
   "input_path": "__notebook__.ipynb",
   "output_path": "__notebook__.ipynb",
   "parameters": {},
   "start_time": "2024-09-09T22:16:40.642980",
   "version": "2.6.0"
  }
 },
 "nbformat": 4,
 "nbformat_minor": 5
}
